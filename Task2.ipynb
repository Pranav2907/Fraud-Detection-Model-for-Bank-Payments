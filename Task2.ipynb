{
 "cells": [
  {
   "cell_type": "markdown",
   "metadata": {},
   "source": [
    "## TASK 2"
   ]
  },
  {
   "cell_type": "code",
   "execution_count": 1,
   "metadata": {},
   "outputs": [
    {
     "data": {
      "text/plain": [
       "{(1, 0): ('UP', 7.290000000000001),\n",
       " (3, 2): ('DOWN', 6.436000000000001),\n",
       " (4, 1): ('LEFT', 6.777000000000001)}"
      ]
     },
     "execution_count": 1,
     "metadata": {},
     "output_type": "execute_result"
    }
   ],
   "source": [
    "import numpy as np\n",
    "\n",
    "# Defining the grid as per the image\n",
    "u_grid = np.array([\n",
    "    [7.41, 7.52, 7.65, 10, 7.54],\n",
    "    [7.31, None, -10, 5.82, -10],\n",
    "    [7.15, None, -10, 4.31, None],\n",
    "    [6.98, 6.77, 6.44, 5.87, 6.12],\n",
    "    [6.90, 6.80, 6.59, 6.51, 6.34]\n",
    "])\n",
    "\n",
    "# Defining the rewards and probabilities\n",
    "steping_reward = -0.1\n",
    "failure_probability = 0.2\n",
    "successful_probability = 0.8\n",
    "\n",
    "# Probability of moving left or right when the movement fails\n",
    "failure_move_probability = failure_probability / 2\n",
    "\n",
    "# The coordinates of the green states \n",
    "green_states = [(1, 0), (3, 2), (4, 1)]\n",
    "\n",
    "# function to calculate the expected utility of moving in a particular direction\n",
    "def calculate_expected_utility(state, direction, grid):\n",
    "\n",
    "    row, col = state\n",
    "    # The utility of the current state\n",
    "    # Calculating the utility of the intended move\n",
    "    if direction == 'UP':\n",
    "        new_state = (max(row - 1, 0), col)\n",
    "    elif direction == 'DOWN':\n",
    "        new_state = (min(row + 1, grid.shape[0] - 1), col)\n",
    "    elif direction == 'LEFT':\n",
    "        new_state = (row, max(col - 1, 0))\n",
    "    elif direction == 'RIGHT':\n",
    "        new_state = (row, min(col + 1, grid.shape[1] - 1))\n",
    "    \n",
    "    # If the new state is inaccessible, the utility is of the current state\n",
    "    if grid[new_state] is None:\n",
    "        intended_utility = grid[state]\n",
    "    else:\n",
    "        intended_utility = grid[new_state]\n",
    "    \n",
    "    # Calculating the utility of the failed moves (perpendicular to the given direction)\n",
    "    if direction in ['UP', 'DOWN']:\n",
    "        fail_states = [(row, max(col - 1, 0)), (row, min(col + 1, grid.shape[1] - 1))]\n",
    "    else:\n",
    "        fail_states = [(max(row - 1, 0), col), (min(row + 1, grid.shape[0] - 1), col)]\n",
    "    \n",
    "    failed_utilities = []\n",
    "    for fs in fail_states:\n",
    "        if grid[fs] is None:\n",
    "            failed_utilities.append(grid[state])\n",
    "        else:\n",
    "            failed_utilities.append(grid[fs])\n",
    "    \n",
    "    # Calculating expected utility\n",
    "    expected_utility = (intended_utility * successful_probability + \n",
    "                        sum(failed_utilities) * failure_move_probability +\n",
    "                        steping_reward)\n",
    "   \n",
    "    return expected_utility\n",
    "\n",
    "# function to find the optimal action for a state\n",
    "def find_optimal_action(state, grid):\n",
    "   \n",
    "    actions = ['UP', 'DOWN', 'LEFT', 'RIGHT']\n",
    "    expected_utilities = [calculate_expected_utility(state, action, grid) for action in actions]\n",
    "    optimal_action = actions[np.argmax(expected_utilities)]\n",
    "    return optimal_action, max(expected_utilities)\n",
    "\n",
    "# Calculate the optimal action for each green state\n",
    "optimal_actions = {}\n",
    "for state in green_states:\n",
    "    optimal_actions[state] = find_optimal_action(state, u_grid)\n",
    "\n",
    "optimal_actions\n"
   ]
  },
  {
   "cell_type": "markdown",
   "metadata": {},
   "source": [
    "   Function to Calculate the expected utility -\n",
    "    It Calculates the expected utility of moving in a given direction from a state.\n",
    "    \n",
    "    :parameter state: tuple (row, column) of the current state\n",
    "    :parameter direction: the direction to move in ('UP', 'DOWN', 'LEFT', 'RIGHT')\n",
    "    :parameter grid: the utility grid\n",
    "    It returns the expected utility of moving in the given direction\n",
    "\n",
    "\n",
    "   \n",
    "    Function to find the optimal action for the agent in a given state.\n",
    "    \n",
    "    :parameter state: tuple (row, column) of the current state\n",
    "    :parameter grid: the utility grid\n",
    "    It returns the optimal action ('UP', 'DOWN', 'LEFT', 'RIGHT')\n",
    "    \n",
    "    "
   ]
  }
 ],
 "metadata": {
  "kernelspec": {
   "display_name": "Python 3 (ipykernel)",
   "language": "python",
   "name": "python3"
  },
  "language_info": {
   "codemirror_mode": {
    "name": "ipython",
    "version": 3
   },
   "file_extension": ".py",
   "mimetype": "text/x-python",
   "name": "python",
   "nbconvert_exporter": "python",
   "pygments_lexer": "ipython3",
   "version": "3.11.4"
  }
 },
 "nbformat": 4,
 "nbformat_minor": 2
}
